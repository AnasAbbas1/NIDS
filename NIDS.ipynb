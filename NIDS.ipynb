{
  "nbformat": 4,
  "nbformat_minor": 0,
  "metadata": {
    "colab": {
      "name": "NIDS.ipynb",
      "provenance": [],
      "authorship_tag": "ABX9TyNXeg9fakYLB/KjpigWR56D",
      "include_colab_link": true
    },
    "kernelspec": {
      "name": "python3",
      "display_name": "Python 3"
    },
    "language_info": {
      "name": "python"
    },
    "accelerator": "GPU",
    "gpuClass": "standard"
  },
  "cells": [
    {
      "cell_type": "markdown",
      "metadata": {
        "id": "view-in-github",
        "colab_type": "text"
      },
      "source": [
        "<a href=\"https://colab.research.google.com/github/AnasAbbas1/NIDS/blob/main/NIDS.ipynb\" target=\"_parent\"><img src=\"https://colab.research.google.com/assets/colab-badge.svg\" alt=\"Open In Colab\"/></a>"
      ]
    },
    {
      "cell_type": "code",
      "execution_count": 2,
      "metadata": {
        "colab": {
          "base_uri": "https://localhost:8080/"
        },
        "id": "WJT0GugCCqEE",
        "outputId": "4c5bbada-99aa-459d-c81e-98653e5c9d02"
      },
      "outputs": [
        {
          "output_type": "stream",
          "name": "stdout",
          "text": [
            "running code!!\n",
            "paper Code ran fine and output is as expected\n",
            "step #1 : completed execution in 517us\n",
            "step #2 : completed execution in 391us\n",
            "step #3 : completed execution in 164us\n",
            "step #4 : completed execution in 272us\n",
            "step #5 : completed execution in 5562us\n",
            "total execution time is 6.906ms\n",
            "proposed Code ran fine and output is as expected\n",
            "step #1 : completed execution in 33333us\n",
            "step #2 : completed execution in 1847us\n",
            "step #3 : completed execution in 337us\n",
            "step #4 : completed execution in 601us\n",
            "step #5 : completed execution in 6071us\n",
            "total execution time is 42.189ms\n"
          ]
        }
      ],
      "source": [
        "!wget -O /content/code.zip https://codeload.github.com/AnasAbbas1/NIDS/zip/refs/heads/main\n",
        "!rm -r /content/NIDS-main/\n",
        "!unzip /content/code.zip -d /content/\n",
        "!rm /content/code.zip\n",
        "!mkdir /content/NIDS-main/outputfiles\n",
        "!echo compiling!!\n",
        "!/usr/local/cuda-11.1/bin/nvcc -o /content/NIDS-main/run /content/NIDS-main/NIDS.cu \n",
        "from IPython.display import clear_output\n",
        "clear_output()\n",
        "!echo running code!!\n",
        "!/content/NIDS-main/run"
      ]
    }
  ]
}