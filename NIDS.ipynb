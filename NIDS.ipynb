{
  "nbformat": 4,
  "nbformat_minor": 0,
  "metadata": {
    "colab": {
      "name": "NIDS.ipynb",
      "provenance": [],
      "authorship_tag": "ABX9TyNvieZV8nTJ/goMGNTe+gHZ",
      "include_colab_link": true
    },
    "kernelspec": {
      "name": "python3",
      "display_name": "Python 3"
    },
    "language_info": {
      "name": "python"
    },
    "accelerator": "GPU",
    "gpuClass": "standard"
  },
  "cells": [
    {
      "cell_type": "markdown",
      "metadata": {
        "id": "view-in-github",
        "colab_type": "text"
      },
      "source": [
        "<a href=\"https://colab.research.google.com/github/AnasAbbas1/NIDS/blob/main/NIDS.ipynb\" target=\"_parent\"><img src=\"https://colab.research.google.com/assets/colab-badge.svg\" alt=\"Open In Colab\"/></a>"
      ]
    },
    {
      "cell_type": "code",
      "execution_count": null,
      "metadata": {
        "colab": {
          "base_uri": "https://localhost:8080/"
        },
        "id": "WJT0GugCCqEE",
        "outputId": "a92da4dd-6a5c-483a-c41b-92dc205905e7"
      },
      "outputs": [
        {
          "output_type": "stream",
          "name": "stdout",
          "text": [
            "Cloning into 'NIDS'...\n",
            "remote: Enumerating objects: 1348, done.\u001b[K\n",
            "remote: Counting objects: 100% (11/11), done.\u001b[K\n",
            "remote: Compressing objects: 100% (8/8), done.\u001b[K\n",
            "remote: Total 1348 (delta 3), reused 6 (delta 3), pack-reused 1337\u001b[K\n",
            "Receiving objects: 100% (1348/1348), 476.54 KiB | 29.78 MiB/s, done.\n",
            "Resolving deltas: 100% (825/825), done.\n",
            "NIDS/kernels.h(14): warning: a __constant__ variable \"d_masks\" cannot be directly read in a host function\n",
            "\n",
            "NIDS/kernels.h(14): warning: a __constant__ variable \"d_cumShifts\" cannot be directly read in a host function\n",
            "\n",
            "NIDS/kernels.h(14): warning: a __constant__ variable \"d_masks\" cannot be directly read in a host function\n",
            "\n",
            "NIDS/kernels.h(14): warning: a __constant__ variable \"d_cumShifts\" cannot be directly read in a host function\n",
            "\n",
            "NIDS/kernels.h(15): warning: a __constant__ variable \"d_mps\" cannot be directly read in a host function\n",
            "\n",
            "NIDS/kernels.h(15): warning: a __constant__ variable \"d_mps\" cannot be directly read in a host function\n",
            "\n",
            "NIDS/kernels.h(17): warning: a __constant__ variable \"d_oppShifts\" cannot be directly read in a host function\n",
            "\n",
            "output of n=27_k=0_m=10 were correct\n",
            "output of n=27_k=0_m=20 were correct\n",
            "output of n=27_k=0_m=30 were correct\n",
            "output of n=27_k=2_m=10 were correct\n",
            "output of n=27_k=2_m=20 were correct\n",
            "output of n=27_k=2_m=30 were correct\n",
            "output of n=27_k=4_m=10 were correct\n",
            "output of n=27_k=4_m=20 were correct\n",
            "output of n=27_k=4_m=30 were correct\n",
            "output of n=27_k=6_m=10 were correct\n",
            "output of n=27_k=6_m=20 were correct\n",
            "output of n=27_k=6_m=30 were correct\n",
            "output of n=27_k=8_m=10 were correct\n",
            "output of n=27_k=8_m=20 were correct\n",
            "output of n=27_k=8_m=30 were correct\n",
            "tcmalloc: large alloc 1073741824 bytes == 0x564b09aa0000 @  0x7f4245022887 0x564a7f825efe 0x564a7f8253e0 0x564a7f8246bc 0x564a7f822f14 0x564a7f820dcc 0x564a7f81efae 0x564a7f812dc4 0x564a7f812f36 0x564a7f80a630 0x7f4243cb3c87 0x564a7f80950a\n",
            "output of n=27_k=0_m=500 were correct\n",
            "tcmalloc: large alloc 1073741824 bytes == 0x561da7260000 @  0x7f62edee9887 0x561d1ba25efe 0x561d1ba253e0 0x561d1ba246bc 0x561d1ba22f14 0x561d1ba20dcc 0x561d1ba1efae 0x561d1ba12dc4 0x561d1ba12f36 0x561d1ba0a630 0x7f62ecb7ac87 0x561d1ba0950a\n",
            "output of n=27_k=0_m=1000 were correct\n",
            "tcmalloc: large alloc 1073741824 bytes == 0x560b1145e000 @  0x7fe852247887 0x560a85c25efe 0x560a85c253e0 0x560a85c246bc 0x560a85c22f14 0x560a85c20dcc 0x560a85c1efae 0x560a85c12dc4 0x560a85c12f36 0x560a85c0a630 0x7fe850ed8c87 0x560a85c0950a\n",
            "output of n=27_k=0_m=1500 were correct\n",
            "tcmalloc: large alloc 1073741824 bytes == 0x55fe9c852000 @  0x7f05631a1887 0x55fe11425efe 0x55fe114253e0 0x55fe114246bc 0x55fe11422f14 0x55fe11420dcc 0x55fe1141efae 0x55fe11412dc4 0x55fe11412f36 0x55fe1140a630 0x7f0561e32c87 0x55fe1140950a\n",
            "output of n=27_k=0_m=2000 were correct\n"
          ]
        }
      ],
      "source": [
        "!rm -R NIDS\n",
        "!git clone https://github.com/AnasAbbas1/NIDS.git\n",
        "!/usr/local/cuda-11.2/bin/nvcc -o NIDS/run NIDS/NIDS.cu\n",
        "!NIDS/run 27 0 10 2\n",
        "!NIDS/run 27 0 20 2\n",
        "!NIDS/run 27 0 30 2\n",
        "!NIDS/run 27 2 10 2\n",
        "!NIDS/run 27 2 20 2\n",
        "!NIDS/run 27 2 30 2\n",
        "!NIDS/run 27 4 10 2\n",
        "!NIDS/run 27 4 20 2\n",
        "!NIDS/run 27 4 30 2\n",
        "!NIDS/run 27 6 10 2\n",
        "!NIDS/run 27 6 20 2\n",
        "!NIDS/run 27 6 30 2\n",
        "!NIDS/run 27 8 10 2\n",
        "!NIDS/run 27 8 20 2\n",
        "!NIDS/run 27 8 30 2\n",
        "!NIDS/run 27 0 500 1\n",
        "!NIDS/run 27 0 1000 1\n",
        "!NIDS/run 27 0 1500 1\n",
        "!NIDS/run 27 0 2000 1\n",
        "!NIDS/run 27 0 2500 1"
      ]
    },
    {
      "cell_type": "code",
      "source": [
        "!nvidia-smi"
      ],
      "metadata": {
        "id": "j_AmwlbK41gB",
        "outputId": "d5f00883-4dab-45df-f3eb-65e230eaf2b6",
        "colab": {
          "base_uri": "https://localhost:8080/"
        }
      },
      "execution_count": null,
      "outputs": [
        {
          "output_type": "stream",
          "name": "stdout",
          "text": [
            "Sun Aug 14 22:21:04 2022       \n",
            "+-----------------------------------------------------------------------------+\n",
            "| NVIDIA-SMI 460.32.03    Driver Version: 460.32.03    CUDA Version: 11.2     |\n",
            "|-------------------------------+----------------------+----------------------+\n",
            "| GPU  Name        Persistence-M| Bus-Id        Disp.A | Volatile Uncorr. ECC |\n",
            "| Fan  Temp  Perf  Pwr:Usage/Cap|         Memory-Usage | GPU-Util  Compute M. |\n",
            "|                               |                      |               MIG M. |\n",
            "|===============================+======================+======================|\n",
            "|   0  Tesla T4            Off  | 00000000:00:04.0 Off |                    0 |\n",
            "| N/A   48C    P8    10W /  70W |      0MiB / 15109MiB |      0%      Default |\n",
            "|                               |                      |                  N/A |\n",
            "+-------------------------------+----------------------+----------------------+\n",
            "                                                                               \n",
            "+-----------------------------------------------------------------------------+\n",
            "| Processes:                                                                  |\n",
            "|  GPU   GI   CI        PID   Type   Process name                  GPU Memory |\n",
            "|        ID   ID                                                   Usage      |\n",
            "|=============================================================================|\n",
            "|  No running processes found                                                 |\n",
            "+-----------------------------------------------------------------------------+\n"
          ]
        }
      ]
    }
  ]
}