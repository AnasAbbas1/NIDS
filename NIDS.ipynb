{
  "nbformat": 4,
  "nbformat_minor": 0,
  "metadata": {
    "colab": {
      "name": "NIDS.ipynb",
      "provenance": [],
      "authorship_tag": "ABX9TyM6tWXi8clccQliVgoXAEoy",
      "include_colab_link": true
    },
    "kernelspec": {
      "name": "python3",
      "display_name": "Python 3"
    },
    "language_info": {
      "name": "python"
    },
    "accelerator": "GPU",
    "gpuClass": "standard"
  },
  "cells": [
    {
      "cell_type": "markdown",
      "metadata": {
        "id": "view-in-github",
        "colab_type": "text"
      },
      "source": [
        "<a href=\"https://colab.research.google.com/github/AnasAbbas1/NIDS/blob/main/NIDS.ipynb\" target=\"_parent\"><img src=\"https://colab.research.google.com/assets/colab-badge.svg\" alt=\"Open In Colab\"/></a>"
      ]
    },
    {
      "cell_type": "code",
      "execution_count": 1,
      "metadata": {
        "colab": {
          "base_uri": "https://localhost:8080/"
        },
        "id": "WJT0GugCCqEE",
        "outputId": "4bbc6c0a-62ac-4f68-e9f0-9663fb1334f4"
      },
      "outputs": [
        {
          "output_type": "stream",
          "name": "stdout",
          "text": [
            "running code!!\n",
            "generated data' size is 512MB, expected to find  1.34218e+08 pattern matches\n",
            "tcmalloc: large alloc 1073741824 bytes == 0x55c7fdd36000 @  0x7f586a444887 0x55c5f80df398 0x55c5f80dde1a 0x55c5f80dc0de 0x55c5f80d9d92 0x55c5f80d81d0 0x55c5f80cc2fb 0x55c5f80cc4f1 0x55c5f80c7d9d 0x55c5f80c7e01 0x55c5f813806d 0x7f5869473c18 0x55c5f80c3d7a\n",
            "total execution time on cpu is 894506ms\n",
            "tcmalloc: large alloc 2147483648 bytes == 0x55c87e528000 @  0x7f586a444887 0x55c5f80cad53 0x55c5f80cb0ac 0x55c5f80c41c6 0x7f5869473c87 0x55c5f80c3d7a\n",
            "paper Code ran fine and output is as expected\n",
            "step #1 : completed execution in 854us\n",
            "step #2 : completed execution in 606us\n",
            "step #3 : completed execution in 20060us\n",
            "step #4 : completed execution in 35167us\n",
            "step #5 : completed execution in 3.43188e+06us\n",
            "total execution time is 3488.56ms\n",
            "tcmalloc: large alloc 2147483648 bytes == 0x55c8fe528000 @  0x7f586a444887 0x55c5f80ca1e6 0x55c5f80ca58d 0x55c5f80c421f 0x7f5869473c87 0x55c5f80c3d7a\n",
            "proposed Code ran fine and output is as expected\n",
            "step #1 : completed execution in 30815us\n",
            "step #2 : completed execution in 3397us\n",
            "step #3 : completed execution in 81272us\n",
            "step #4 : completed execution in 86747us\n",
            "step #5 : completed execution in 2.96211e+06us\n",
            "total execution time is 3164.34ms\n"
          ]
        }
      ],
      "source": [
        "!wget -O /content/code.zip https://codeload.github.com/AnasAbbas1/NIDS/zip/refs/heads/main\n",
        "!rm -r /content/NIDS-main/\n",
        "!unzip /content/code.zip -d /content/\n",
        "!rm /content/code.zip\n",
        "!mkdir /content/NIDS-main/outputfiles\n",
        "!echo compiling!!\n",
        "!/usr/local/cuda-11.1/bin/nvcc -o /content/NIDS-main/run /content/NIDS-main/NIDS.cu \n",
        "from IPython.display import clear_output\n",
        "clear_output()\n",
        "!echo running code!!\n",
        "!/content/NIDS-main/run"
      ]
    },
    {
      "cell_type": "code",
      "source": [
        "!nvidia-smi"
      ],
      "metadata": {
        "id": "j_AmwlbK41gB",
        "outputId": "af7a329e-8cde-4605-edfa-b28aec281c80",
        "colab": {
          "base_uri": "https://localhost:8080/"
        }
      },
      "execution_count": 2,
      "outputs": [
        {
          "output_type": "stream",
          "name": "stdout",
          "text": [
            "Tue Jun 21 09:57:04 2022       \n",
            "+-----------------------------------------------------------------------------+\n",
            "| NVIDIA-SMI 460.32.03    Driver Version: 460.32.03    CUDA Version: 11.2     |\n",
            "|-------------------------------+----------------------+----------------------+\n",
            "| GPU  Name        Persistence-M| Bus-Id        Disp.A | Volatile Uncorr. ECC |\n",
            "| Fan  Temp  Perf  Pwr:Usage/Cap|         Memory-Usage | GPU-Util  Compute M. |\n",
            "|                               |                      |               MIG M. |\n",
            "|===============================+======================+======================|\n",
            "|   0  Tesla P100-PCIE...  Off  | 00000000:00:04.0 Off |                    0 |\n",
            "| N/A   37C    P0    26W / 250W |      0MiB / 16280MiB |      0%      Default |\n",
            "|                               |                      |                  N/A |\n",
            "+-------------------------------+----------------------+----------------------+\n",
            "                                                                               \n",
            "+-----------------------------------------------------------------------------+\n",
            "| Processes:                                                                  |\n",
            "|  GPU   GI   CI        PID   Type   Process name                  GPU Memory |\n",
            "|        ID   ID                                                   Usage      |\n",
            "|=============================================================================|\n",
            "|  No running processes found                                                 |\n",
            "+-----------------------------------------------------------------------------+\n"
          ]
        }
      ]
    }
  ]
}