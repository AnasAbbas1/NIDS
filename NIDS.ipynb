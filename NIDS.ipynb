{
  "nbformat": 4,
  "nbformat_minor": 0,
  "metadata": {
    "colab": {
      "name": "NIDS.ipynb",
      "provenance": [],
      "authorship_tag": "ABX9TyO7E9nr/1CWiDStxzTlABc9",
      "include_colab_link": true
    },
    "kernelspec": {
      "name": "python3",
      "display_name": "Python 3"
    },
    "language_info": {
      "name": "python"
    },
    "accelerator": "GPU",
    "gpuClass": "standard"
  },
  "cells": [
    {
      "cell_type": "markdown",
      "metadata": {
        "id": "view-in-github",
        "colab_type": "text"
      },
      "source": [
        "<a href=\"https://colab.research.google.com/github/AnasAbbas1/NIDS/blob/main/NIDS.ipynb\" target=\"_parent\"><img src=\"https://colab.research.google.com/assets/colab-badge.svg\" alt=\"Open In Colab\"/></a>"
      ]
    },
    {
      "cell_type": "code",
      "execution_count": 1,
      "metadata": {
        "colab": {
          "base_uri": "https://localhost:8080/"
        },
        "id": "WJT0GugCCqEE",
        "outputId": "ca52667d-a701-4505-c10f-77dd817bc8e4"
      },
      "outputs": [
        {
          "output_type": "stream",
          "name": "stdout",
          "text": [
            "compiling!!\n",
            "/content/NIDS-main/kernels.h(14): warning: a __constant__ variable \"d_masks\" cannot be directly read in a host function\n",
            "\n",
            "/content/NIDS-main/kernels.h(14): warning: a __constant__ variable \"d_cumShifts\" cannot be directly read in a host function\n",
            "\n",
            "/content/NIDS-main/kernels.h(14): warning: a __constant__ variable \"d_masks\" cannot be directly read in a host function\n",
            "\n",
            "/content/NIDS-main/kernels.h(14): warning: a __constant__ variable \"d_cumShifts\" cannot be directly read in a host function\n",
            "\n",
            "/content/NIDS-main/kernels.h(15): warning: a __constant__ variable \"d_mps\" cannot be directly read in a host function\n",
            "\n",
            "/content/NIDS-main/kernels.h(15): warning: a __constant__ variable \"d_shifts\" cannot be directly read in a host function\n",
            "\n",
            "/content/NIDS-main/kernels.h(16): warning: a __constant__ variable \"d_mps\" cannot be directly read in a host function\n",
            "\n",
            "/content/NIDS-main/kernels.h(16): warning: a __constant__ variable \"d_mps\" cannot be directly read in a host function\n",
            "\n",
            "/content/NIDS-main/kernels.h(17): warning: a __constant__ variable \"d_cumShifts\" cannot be directly read in a host function\n",
            "\n",
            "running code!!\n",
            "here\n",
            "paper Code ran fine and output is as expected\n",
            "step #1 : completed execution in 537us\n",
            "step #2 : completed execution in 431us\n",
            "step #3 : completed execution in 188us\n",
            "step #4 : completed execution in 274us\n",
            "step #5 : completed execution in 5437us\n",
            "total execution time is 6.867ms\n",
            "proposed Code ran fine and output is as expected\n",
            "step #1 : completed execution in 34746us\n",
            "step #2 : completed execution in 2029us\n",
            "step #3 : completed execution in 340us\n",
            "step #4 : completed execution in 676us\n",
            "step #5 : completed execution in 5982us\n",
            "total execution time is 43.773ms\n"
          ]
        }
      ],
      "source": [
        "!wget -O /content/code.zip https://codeload.github.com/AnasAbbas1/NIDS/zip/refs/heads/main\n",
        "!rm -r /content/NIDS-main/\n",
        "!unzip /content/code.zip -d /content/\n",
        "!rm /content/code.zip\n",
        "!mkdir /content/NIDS-main/outputfiles\n",
        "from IPython.display import clear_output\n",
        "clear_output()\n",
        "!echo compiling!!\n",
        "!/usr/local/cuda-11.1/bin/nvcc -o /content/NIDS-main/run /content/NIDS-main/NIDS.cu \n",
        "!echo running code!!\n",
        "!/content/NIDS-main/run"
      ]
    }
  ]
}